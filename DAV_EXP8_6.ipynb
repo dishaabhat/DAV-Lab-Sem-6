{
  "nbformat": 4,
  "nbformat_minor": 0,
  "metadata": {
    "colab": {
      "provenance": [],
      "authorship_tag": "ABX9TyPljLLT9ZLeEX2pcprMh2ja",
      "include_colab_link": true
    },
    "kernelspec": {
      "name": "python3",
      "display_name": "Python 3"
    },
    "language_info": {
      "name": "python"
    }
  },
  "cells": [
    {
      "cell_type": "markdown",
      "metadata": {
        "id": "view-in-github",
        "colab_type": "text"
      },
      "source": [
        "<a href=\"https://colab.research.google.com/github/dishaabhat/DAV-Lab-Sem-6/blob/main/DAV_EXP8_6.ipynb\" target=\"_parent\"><img src=\"https://colab.research.google.com/assets/colab-badge.svg\" alt=\"Open In Colab\"/></a>"
      ]
    },
    {
      "cell_type": "markdown",
      "source": [
        "**Set Up a D3.js Environment, Select Elements in D3, Modify Elements in D3,Data Loading in D3**"
      ],
      "metadata": {
        "id": "RtizO6tQZQqf"
      }
    },
    {
      "cell_type": "markdown",
      "source": [
        "Select Elements in D3"
      ],
      "metadata": {
        "id": "zEwPdnbymu75"
      }
    },
    {
      "cell_type": "code",
      "source": [
        "%%html\n",
        "<!DOCTYPE html>\n",
        "<html lang=\"en\">\n",
        "<head>\n",
        "    <meta charset=\"UTF-8\">\n",
        "    <meta name=\"viewport\" content=\"width=device-width, initial-scale=1.0\">\n",
        "    <title>D3.js Experiment 8</title>\n",
        "    <script src=\"https://d3js.org/d3.v5.min.js\"></script>\n",
        "</head>\n",
        "<body>\n",
        "\n",
        "    <svg width=\"400\" height=\"200\"></svg>\n",
        "    <script>\n",
        "        // Select the SVG element\n",
        "        var svg = d3.select(\"svg\");\n",
        "\n",
        "        // Apply styles or attributes to the SVG element\n",
        "        svg.style(\"background-color\", \"lightblue\")\n",
        "           .append(\"circle\")\n",
        "           .attr(\"cx\", 50)\n",
        "           .attr(\"cy\", 50)\n",
        "           .attr(\"r\", 20)\n",
        "           .style(\"fill\", \"red\");\n",
        "\n",
        "           svg.append(\"polygon\")\n",
        "           .attr(\"points\", \"100,50 150,150 50,150\")\n",
        "           .style(\"fill\", \"blue\");\n",
        "    </script>\n",
        "\n",
        "</body>\n",
        "</html>"
      ],
      "metadata": {
        "id": "vod9vi0EouUy",
        "colab": {
          "base_uri": "https://localhost:8080/",
          "height": 222
        },
        "outputId": "19c7e1cd-d347-4882-c81a-870d9d86d96e"
      },
      "execution_count": 14,
      "outputs": [
        {
          "output_type": "display_data",
          "data": {
            "text/plain": [
              "<IPython.core.display.HTML object>"
            ],
            "text/html": [
              "<!DOCTYPE html>\n",
              "<html lang=\"en\">\n",
              "<head>\n",
              "    <meta charset=\"UTF-8\">\n",
              "    <meta name=\"viewport\" content=\"width=device-width, initial-scale=1.0\">\n",
              "    <title>D3.js Experiment 8</title>\n",
              "    <script src=\"https://d3js.org/d3.v5.min.js\"></script>\n",
              "</head>\n",
              "<body>\n",
              "\n",
              "    <svg width=\"400\" height=\"200\"></svg>\n",
              "    <script>\n",
              "        // Select the SVG element\n",
              "        var svg = d3.select(\"svg\");\n",
              "\n",
              "        // Apply styles or attributes to the SVG element\n",
              "        svg.style(\"background-color\", \"lightblue\")\n",
              "           .append(\"circle\")\n",
              "           .attr(\"cx\", 50)\n",
              "           .attr(\"cy\", 50)\n",
              "           .attr(\"r\", 20)\n",
              "           .style(\"fill\", \"red\");\n",
              "\n",
              "           svg.append(\"polygon\")\n",
              "           .attr(\"points\", \"100,50 150,150 50,150\")\n",
              "           .style(\"fill\", \"blue\");\n",
              "    </script>\n",
              "\n",
              "</body>\n",
              "</html>\n"
            ]
          },
          "metadata": {}
        }
      ]
    },
    {
      "cell_type": "markdown",
      "source": [
        "Modify Elements in D3"
      ],
      "metadata": {
        "id": "DtX0C_rxmxyv"
      }
    },
    {
      "cell_type": "code",
      "source": [
        "%%html\n",
        "<!DOCTYPE html>\n",
        "<html>\n",
        "<head>\n",
        "    <script src=\"https://d3js.org/d3.v7.min.js\"></script>\n",
        "</head>\n",
        "<body>\n",
        "    <svg width=\"400\" height=\"200\"></svg>\n",
        "                    <br>\n",
        "    <label for=\"circleX\">Circle X:</label>\n",
        "    <input type=\"text\" id=\"circleX\" value=\"\">\n",
        "\n",
        "    <label for=\"circleY\">Circle Y:</label>\n",
        "    <input type=\"text\" id=\"circleY\" value=\"\">\n",
        "\n",
        "    <label for=\"circlerad\">Circle radius :</label>\n",
        "    <input type=\"text\" id=\"circlerad\" value=\"\">\n",
        "\n",
        "    <button onclick=\"updateCircle()\">Update Circle</button>\n",
        "                   <br><br>\n",
        "    <label for=\"rectX\">Rect X:</label>\n",
        "    <input type=\"text\" id=\"rectX\" value=\"\">\n",
        "\n",
        "    <label for=\"rectY\">Rect Y:</label>\n",
        "    <input type=\"text\" id=\"rectY\" value=\"\">\n",
        "\n",
        "    <button onclick=\"updateRect()\">Update Rectangle</button>\n",
        "\n",
        "    <script>\n",
        "       //select\n",
        "        var svg = d3.select(\"svg\");\n",
        "        var circle = svg.append(\"circle\")\n",
        "            .attr(\"cx\", 130)\n",
        "            .attr(\"cy\", 50)\n",
        "            .attr(\"r\", 20)\n",
        "            .style(\"fill\", \"red\");\n",
        "        var rect = svg.append(\"rect\")\n",
        "            .attr(\"x\", 150)\n",
        "            .attr(\"y\", 50)\n",
        "            .attr(\"width\", 50)\n",
        "            .attr(\"height\", 30)\n",
        "            .style(\"fill\", \"green\");\n",
        "\n",
        "        function updateCircle() {\n",
        "            var newX = document.getElementById(\"circleX\").value;\n",
        "            var newY = document.getElementById(\"circleY\").value;\n",
        "            var newrad = document.getElementById(\"circlerad\").value;\n",
        "           //modifying\n",
        "            circle.attr(\"cx\", newX)\n",
        "                  .attr(\"cy\", newY)\n",
        "                  .attr(\"r\",newrad);\n",
        "        }\n",
        "\n",
        "        function updateRect() {\n",
        "            var newX = document.getElementById(\"rectX\").value;\n",
        "            var newY = document.getElementById(\"rectY\").value;\n",
        "            //modifying\n",
        "            rect.attr(\"x\", newX)\n",
        "                .attr(\"y\", newY);\n",
        "        }\n",
        "    </script>\n",
        "</body>\n",
        "</html>\n"
      ],
      "metadata": {
        "colab": {
          "base_uri": "https://localhost:8080/",
          "height": 281
        },
        "id": "RpdGOEDbnjk0",
        "outputId": "58e0635e-4f06-4ce5-f93b-6b8346a0cdef"
      },
      "execution_count": 25,
      "outputs": [
        {
          "output_type": "display_data",
          "data": {
            "text/plain": [
              "<IPython.core.display.HTML object>"
            ],
            "text/html": [
              "<!DOCTYPE html>\n",
              "<html>\n",
              "<head>\n",
              "    <script src=\"https://d3js.org/d3.v7.min.js\"></script>\n",
              "</head>\n",
              "<body>\n",
              "    <svg width=\"400\" height=\"200\"></svg>\n",
              "                    <br>\n",
              "    <label for=\"circleX\">Circle X:</label>\n",
              "    <input type=\"text\" id=\"circleX\" value=\"\">\n",
              "\n",
              "    <label for=\"circleY\">Circle Y:</label>\n",
              "    <input type=\"text\" id=\"circleY\" value=\"\">\n",
              "\n",
              "    <label for=\"circlerad\">Circle radius :</label>\n",
              "    <input type=\"text\" id=\"circlerad\" value=\"\">\n",
              "\n",
              "    <button onclick=\"updateCircle()\">Update Circle</button>\n",
              "                   <br><br>\n",
              "    <label for=\"rectX\">Rect X:</label>\n",
              "    <input type=\"text\" id=\"rectX\" value=\"\">\n",
              "\n",
              "    <label for=\"rectY\">Rect Y:</label>\n",
              "    <input type=\"text\" id=\"rectY\" value=\"\">\n",
              "\n",
              "    <button onclick=\"updateRect()\">Update Rectangle</button>\n",
              "\n",
              "    <script>\n",
              "       //select\n",
              "        var svg = d3.select(\"svg\");\n",
              "        var circle = svg.append(\"circle\")\n",
              "            .attr(\"cx\", 130)\n",
              "            .attr(\"cy\", 50)\n",
              "            .attr(\"r\", 20)\n",
              "            .style(\"fill\", \"red\");\n",
              "        var rect = svg.append(\"rect\")\n",
              "            .attr(\"x\", 150)\n",
              "            .attr(\"y\", 50)\n",
              "            .attr(\"width\", 50)\n",
              "            .attr(\"height\", 30)\n",
              "            .style(\"fill\", \"green\");\n",
              "\n",
              "        function updateCircle() {\n",
              "            var newX = document.getElementById(\"circleX\").value;\n",
              "            var newY = document.getElementById(\"circleY\").value;\n",
              "            var newrad = document.getElementById(\"circlerad\").value;\n",
              "           //modifying\n",
              "            circle.attr(\"cx\", newX)\n",
              "                  .attr(\"cy\", newY)\n",
              "                  .attr(\"r\",newrad);\n",
              "        }\n",
              "\n",
              "        function updateRect() {\n",
              "            var newX = document.getElementById(\"rectX\").value;\n",
              "            var newY = document.getElementById(\"rectY\").value;\n",
              "            //modifying\n",
              "            rect.attr(\"x\", newX)\n",
              "                .attr(\"y\", newY);\n",
              "        }\n",
              "    </script>\n",
              "</body>\n",
              "</html>\n"
            ]
          },
          "metadata": {}
        }
      ]
    },
    {
      "cell_type": "markdown",
      "source": [
        "Data Loading in D3"
      ],
      "metadata": {
        "id": "-5ceyE1_m2vR"
      }
    },
    {
      "cell_type": "code",
      "source": [
        "%%html\n",
        "<!DOCTYPE html>\n",
        "<html>\n",
        "<head>\n",
        "    <title>D3.js Data Loading</title>\n",
        "    <style>\n",
        "        .bar {\n",
        "            display: inline-block;\n",
        "            width: 20px;\n",
        "            background-color: steelblue;\n",
        "            margin-right: 2px;\n",
        "        }\n",
        "    </style>\n",
        "</head>\n",
        "<body>\n",
        "    <script src=\"https://d3js.org/d3.v7.min.js\"></script>\n",
        "    <script>\n",
        "        var dataset = [];\n",
        "        for (var i = 0; i < 25; i++) {\n",
        "            dataset.push(Math.random() * 30);\n",
        "        }\n",
        "\n",
        "        d3.select(\"body\")\n",
        "            .append(\"g\")\n",
        "            .selectAll()\n",
        "            .data(dataset)\n",
        "            .enter()\n",
        "            .append(\"div\")\n",
        "            .attr(\"class\", \"bar\")\n",
        "            .style(\"height\", function(d) { return d * 4 + \"px\"; });\n",
        "    </script>\n",
        "</body>\n",
        "</html>\n"
      ],
      "metadata": {
        "colab": {
          "base_uri": "https://localhost:8080/",
          "height": 140
        },
        "id": "9yoqyLhtm3gN",
        "outputId": "28cbda54-53fd-4813-e464-4dcf2343b26a"
      },
      "execution_count": 31,
      "outputs": [
        {
          "output_type": "display_data",
          "data": {
            "text/plain": [
              "<IPython.core.display.HTML object>"
            ],
            "text/html": [
              "<!DOCTYPE html>\n",
              "<html>\n",
              "<head>\n",
              "    <title>D3.js Example</title>\n",
              "    <style>\n",
              "        .bar {\n",
              "            display: inline-block;\n",
              "            width: 20px;\n",
              "            background-color: steelblue;\n",
              "            margin-right: 2px;\n",
              "        }\n",
              "    </style>\n",
              "</head>\n",
              "<body>\n",
              "    <script src=\"https://d3js.org/d3.v7.min.js\"></script>\n",
              "    <script>\n",
              "        var dataset = [];\n",
              "        for (var i = 0; i < 25; i++) {\n",
              "            dataset.push(Math.random() * 30);\n",
              "        }\n",
              "\n",
              "        d3.select(\"body\")\n",
              "            .append(\"g\")\n",
              "            .selectAll()\n",
              "            .data(dataset)\n",
              "            .enter()\n",
              "            .append(\"div\")\n",
              "            .attr(\"class\", \"bar\")\n",
              "            .style(\"height\", function(d) { return d * 4 + \"px\"; });\n",
              "    </script>\n",
              "</body>\n",
              "</html>\n"
            ]
          },
          "metadata": {}
        }
      ]
    }
  ]
}