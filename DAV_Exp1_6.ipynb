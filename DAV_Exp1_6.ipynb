{
  "cells": [
    {
      "cell_type": "markdown",
      "metadata": {
        "id": "view-in-github",
        "colab_type": "text"
      },
      "source": [
        "<a href=\"https://colab.research.google.com/github/dishaabhat/DAV-Lab-Sem-6/blob/main/DAV_Exp1_6.ipynb\" target=\"_parent\"><img src=\"https://colab.research.google.com/assets/colab-badge.svg\" alt=\"Open In Colab\"/></a>"
      ]
    },
    {
      "cell_type": "markdown",
      "metadata": {
        "id": "VFWtxw61_urR"
      },
      "source": [
        "\n",
        "**TITLE** :- Getting introduced to data analytics libraries in Python and R.\n",
        "\n",
        "\n",
        "**AIM**:-\n",
        "1. Explore Top-5 Data Analytics Libraries in Python (w.r.t Features & Applications)\n",
        "2. Explore Top-5 Data Analytics Libraries in R (w.r.t Features & Applications)\n",
        "3. Install 2 Libraries each for Python and R\n",
        "4. Perform simple experiments on the 2 identified libraries each for Python and R\n",
        "6. Prepare a document with the Aim, Tasks performed, Program, Output, and Conclusion.\n",
        "\n",
        "**THEORY**:-\n",
        "\n",
        "***5 Data Analytics Libraries in Python:-***\n",
        "1. *TensorFlow*\n",
        "\n",
        "     - Better computational graph visualizations.\n",
        "\n",
        "    - Reduces error by 50 to 60 percent in neural machine learning.\n",
        "\n",
        "    - Parallel computing to execute complex models.\n",
        "\n",
        "    - Seamless library management backed by Google.\n",
        "\n",
        "    - Quicker updates and frequent new releases to provide you with the latest features\n",
        "\n",
        "    - Speech and image recognition.\n",
        "\n",
        "    - Text-based applications.\n",
        "\n",
        "    - Time-series analysis.\n",
        "    \n",
        "    - Video detection\n",
        "   \n",
        "\n",
        "2. *NumPy*\n",
        "- Provides fast, precompiled functions for numerical routines.\n",
        "\n",
        "    - Array-oriented computing for better efficiency.\n",
        "\n",
        "   - Supports an object-oriented approach.\n",
        "\n",
        "    - Compact and faster computations with vectorization\n",
        "    \n",
        "    - Extensively used in data analysis.\n",
        "\n",
        "    - Creates powerful N-dimensional array.\n",
        "\n",
        "   - Forms the base of other libraries, such as SciPy and scikit-learn.\n",
        "\n",
        "    - Replacement of MATLAB when used with SciPy and matplotlib.\n",
        "    \n",
        "\n",
        "3. *Pandas*\n",
        "\n",
        "    - Eloquent syntax and rich functionalities that gives you the freedom to deal with missing data.\n",
        "\n",
        "    - Enables you to create your own function and run it across a series of data.\n",
        "\n",
        "    - High-level abstraction.\n",
        "\n",
        "    - Contains high-level data structures and manipulation tools.\n",
        "\n",
        "    - General data wrangling and data cleaning.\n",
        "\n",
        "    - ETL (extract, transform, load) jobs for data transformation and data storage, as it has excellent support for loading CSV files into its data frame format.\n",
        "\n",
        "    - Used in a variety of academic and commercial areas, including statistics, finance and neuroscience.\n",
        "\n",
        "    - Time-series-specific functionality, such as date range generation, moving window, linear regression and date shifting.\n",
        "   \n",
        "4. *Matplotlib*\n",
        "\n",
        "   - Usable as a MATLAB replacement, with the advantage of being free and open source.\n",
        "\n",
        "    - Supports dozens of backends and output types, which means you can use it regardless of which operating system you’re using or which output format you wish to use.\n",
        "\n",
        "    - Pandas itself can be used as wrappers around MATLAB API to drive MATLAB like a cleaner/\n",
        "\n",
        "   - Low memory consumption and better runtime behavior.\n",
        "\n",
        "    - Correlation analysis of variables.\n",
        "\n",
        "    - Visualize 95 percent confidence intervals of the models.\n",
        "\n",
        "    - Outlier detection using a scatter plot etc.\n",
        "\n",
        "   - Visualize the distribution of data to gain instant insights.\n",
        "  \n",
        "   \n",
        "\n",
        "5. 4. Keras\n",
        "  - Keras is a popular library that is used extensively for deep learning and neural network modules.\n",
        "  - Keras runs on top of open source machine libraries like TensorFlow, Theano or Cognitive Toolkit (CNTK)\n",
        "  - Keras supports both the TensorFlow and Theano backends, so it is a good option if you don't want to dive into the details of TensorFlow.\n",
        "  Features\n",
        "  - Consistent, simple and extensible API.\n",
        "  - Minimal structure - easy to achieve the result without any frills.\n",
        "  - It supports multiple platforms and backends.\n",
        "  - It is user friendly framework which runs on both CPU and GPU.\n",
        "  - Highly scalability of computation.\n",
        "5. BeautifulSoup\n",
        "  - Beautiful Soup is a Python package for parsing HTML and XML documents.\n",
        "  - It creates a parse tree for parsed pages that can be used to extract data from HTML, which is useful for web scraping.\n",
        "  Features:\n",
        "  - HTML/XML Parsing: Beautiful Soup allows easy extraction of data from HTML and XML documents by providing methods to navigate the parse tree.\n",
        "  - Tag and Attribute Searching: Beautiful Soup makes it easy to search for specific HTML or XML tags and their attributes, simplifying the process of locating and extracting relevant information.\n",
        "  - Tree Navigation: Beautiful Soup creates a parse tree from the input HTML or XML, and it provides methods for navigating this tree structure to access specific elements.\n",
        "  - Content Extraction: It allows the extraction of the textual content, attributes, and other data associated with HTML or XML elements.\n",
        "\n",
        "    6. BeautifulSoup\n",
        "  - Beautiful Soup is a Python package for parsing HTML and XML documents.\n",
        "  - It creates a parse tree for parsed pages that can be used to extract data from HTML, which is useful for web scraping.\n",
        "  Features:\n",
        "  - HTML/XML Parsing: Beautiful Soup allows easy extraction of data from HTML and XML documents by providing methods to navigate the parse tree.\n",
        "  - Tag and Attribute Searching: Beautiful Soup makes it easy to search for specific HTML or XML tags and their attributes, simplifying the process of locating and extracting relevant information.\n",
        "  - Tree Navigation: Beautiful Soup creates a parse tree from the input HTML or XML, and it provides methods for navigating this tree structure to access specific elements.\n",
        "  - Content Extraction: It allows the extraction of the textual content, attributes, and other data associated with HTML or XML elements.\n",
        "\n",
        "\n",
        "\n",
        "***5 Data Analytics Libraries in R:-***\n",
        "\n",
        "1. *dplyr:*\n",
        "\n",
        "      - Provides a set of functions for data manipulation and transformation.\n",
        "      - Emphasizes a consistent and intuitive syntax for common data operations.\n",
        "      - Offers functions like filter, select, mutate, group_by, and summarize for efficient data wrangling.\n",
        "\n",
        "      - Data cleaning and preprocessing.\n",
        "      - Aggregating and summarizing data.\n",
        "      - Selecting and filtering specific columns or rows.\n",
        "\n",
        "2. *ggplot2:*\n",
        "\n",
        "      - A powerful data visualization library.\n",
        "      - Based on the Grammar of Graphics, allowing users to create complex plots with a simple syntax.\n",
        "      - Supports a wide range of plot types and customization options.\n",
        "      - Creating static and interactive visualizations.\n",
        "      - Exploring relationships between variables.\n",
        "      - Communicating insights through effective plots.\n",
        "\n",
        "3. *tidyr:*\n",
        "\n",
        "      - Designed for cleaning and tidying messy data.\n",
        "      - Includes functions like gather and spread for reshaping data.\n",
        "      - Works well in conjunction with dplyr for data manipulation tasks.\n",
        "      - Converting wide to long format and vice versa.\n",
        "      - Handling missing data and outliers.\n",
        "      - Preparing data for analysis or visualization.\n",
        "\n",
        "4.  mlr\n",
        " - The mlr package provides a generic, object-oriented, and extensible framework for classification, regression, survival analysis and clustering for the R language.\n",
        " - It provides a unified interface to more than 160 basic learners and includes meta-algorithms and model selection techniques to improve and extend the functionality of basic learners with, e.g., hyperparameter tuning, feature selection, and ensemble construction.\n",
        " - Parallel high-performance computing is also natively supported by mlr.\n",
        "  \n",
        "\n",
        "5. shiny\n",
        "  - Shiny is an R package that makes it easy to build interactive web applications (apps) straight from R.\n",
        "  - Shiny is a framework for creating web applications using R code.\n",
        "  - It is designed primarily with data scientists in mind and it can create pretty complicated Shiny apps without requiring knowledge of HTML, CSS, or JavaScript\n",
        "  - Provides a carefully curated set of user interface (UI for short) functions that generate the HTML, CSS, and JavaScript needed for common tasks\n",
        "  - It follows a style of programming called reactive programming which automatically tracks the dependencies of pieces of code.\n"
      ]
    },
    {
      "cell_type": "markdown",
      "metadata": {
        "id": "U_ol5IGn_1Sx"
      },
      "source": [
        "\n",
        "\n",
        "\n",
        "\n",
        "# **Data Analytics Library in Python.**"
      ]
    },
    {
      "cell_type": "code",
      "execution_count": 1,
      "metadata": {
        "id": "bXHZMudT_sV9",
        "colab": {
          "base_uri": "https://localhost:8080/"
        },
        "outputId": "cf94b18d-37e1-4551-80d7-d6658e01b3e2"
      },
      "outputs": [
        {
          "output_type": "stream",
          "name": "stdout",
          "text": [
            "Requirement already satisfied: numpy in /usr/local/lib/python3.10/dist-packages (1.23.5)\n",
            "Requirement already satisfied: pandas in /usr/local/lib/python3.10/dist-packages (1.5.3)\n",
            "Requirement already satisfied: python-dateutil>=2.8.1 in /usr/local/lib/python3.10/dist-packages (from pandas) (2.8.2)\n",
            "Requirement already satisfied: pytz>=2020.1 in /usr/local/lib/python3.10/dist-packages (from pandas) (2023.3.post1)\n",
            "Requirement already satisfied: six>=1.5 in /usr/local/lib/python3.10/dist-packages (from python-dateutil>=2.8.1->pandas) (1.16.0)\n"
          ]
        }
      ],
      "source": [
        "!pip install numpy pandas"
      ]
    },
    {
      "cell_type": "code",
      "source": [
        "import numpy as np\n",
        "array1D = np.array([2,3,4,5])\n",
        "print(f\"1D Array : {array1D}, Shape : {array1D.shape}\")\n",
        "\n",
        "array2D = np.array([[1,2,3],[4,5,6]])\n",
        "print(f\"2D Array : \\n{array2D}, Shape : {array2D.shape}\")"
      ],
      "metadata": {
        "id": "rvyNHW0y-ol0",
        "colab": {
          "base_uri": "https://localhost:8080/"
        },
        "outputId": "6300cd4a-2616-4dc8-edea-4ccb2256bddd"
      },
      "execution_count": 2,
      "outputs": [
        {
          "output_type": "stream",
          "name": "stdout",
          "text": [
            "1D Array : [2 3 4 5], Shape : (4,)\n",
            "2D Array : \n",
            "[[1 2 3]\n",
            " [4 5 6]], Shape : (2, 3)\n"
          ]
        }
      ]
    },
    {
      "cell_type": "code",
      "source": [
        "import pandas as pd\n",
        "data = {\n",
        "  \"calories\": [420, None, 390],\n",
        "  \"duration\": [50, 40, 45]\n",
        "}\n",
        "df = pd.DataFrame(data)\n",
        "missing = np.where(df[\"calories\"].isnull() == True)\n",
        "print(df)\n",
        "print(missing)"
      ],
      "metadata": {
        "id": "yGviAKCs-ns5",
        "colab": {
          "base_uri": "https://localhost:8080/"
        },
        "outputId": "5e48663d-bbaf-494e-b455-725ebff0e276"
      },
      "execution_count": 3,
      "outputs": [
        {
          "output_type": "stream",
          "name": "stdout",
          "text": [
            "   calories  duration\n",
            "0     420.0        50\n",
            "1       NaN        40\n",
            "2     390.0        45\n",
            "(array([1]),)\n"
          ]
        }
      ]
    },
    {
      "cell_type": "markdown",
      "source": [
        "# **Data Analytics Library in R.**\n"
      ],
      "metadata": {
        "id": "navQc38EB1ou"
      }
    },
    {
      "cell_type": "code",
      "source": [
        "install.packages(\"ggplot2\")\n",
        "install.packages(\"dplyr\")"
      ],
      "metadata": {
        "colab": {
          "base_uri": "https://localhost:8080/"
        },
        "id": "DSjuRg9aBi0G",
        "outputId": "5cbee401-8a72-4d85-88a5-422fd648445f"
      },
      "execution_count": 1,
      "outputs": [
        {
          "output_type": "stream",
          "name": "stderr",
          "text": [
            "Installing package into ‘/usr/local/lib/R/site-library’\n",
            "(as ‘lib’ is unspecified)\n",
            "\n",
            "Installing package into ‘/usr/local/lib/R/site-library’\n",
            "(as ‘lib’ is unspecified)\n",
            "\n"
          ]
        }
      ]
    },
    {
      "cell_type": "code",
      "source": [
        "library(ggplot2)\n",
        "library(dplyr)"
      ],
      "metadata": {
        "id": "TqbyYm57Bl9b",
        "colab": {
          "base_uri": "https://localhost:8080/"
        },
        "outputId": "02601e14-b5d2-4e93-85ea-89cec35cb7b4"
      },
      "execution_count": 2,
      "outputs": [
        {
          "output_type": "stream",
          "name": "stderr",
          "text": [
            "\n",
            "Attaching package: ‘dplyr’\n",
            "\n",
            "\n",
            "The following objects are masked from ‘package:stats’:\n",
            "\n",
            "    filter, lag\n",
            "\n",
            "\n",
            "The following objects are masked from ‘package:base’:\n",
            "\n",
            "    intersect, setdiff, setequal, union\n",
            "\n",
            "\n"
          ]
        }
      ]
    },
    {
      "cell_type": "code",
      "source": [
        "data <- data.frame(\n",
        "  Name = c(\"Jake\", \"Amy\", \"Terry\", \"Raymond\", \"Nikolaj\"),\n",
        "  Age = c(36, 35, 42, 55, 5),\n",
        "  Salary = c(40000, 50000, 45000, 65000, 650)\n",
        ")\n",
        "\n",
        "filtered_data <- data %>%\n",
        "  filter(Age > 25) %>%\n",
        "  select(Name, Salary)\n",
        "\n",
        "print(filtered_data)\n",
        "\n",
        "ggplot(data, aes(x = Age, y = Salary, color = Name)) +\n",
        "  geom_point() +\n",
        "  labs(title = \"Scatter Plot of Age vs Salary\", x = \"Age\", y = \"Salary\")"
      ],
      "metadata": {
        "colab": {
          "base_uri": "https://localhost:8080/",
          "height": 524
        },
        "id": "KrEjDFJqBqyU",
        "outputId": "cbea7774-bc46-4951-e33a-404fb89e4b19"
      },
      "execution_count": 3,
      "outputs": [
        {
          "output_type": "stream",
          "name": "stdout",
          "text": [
            "     Name Salary\n",
            "1    Jake  40000\n",
            "2     Amy  50000\n",
            "3   Terry  45000\n",
            "4 Raymond  65000\n"
          ]
        },
        {
          "output_type": "display_data",
          "data": {
            "text/plain": [
              "plot without title"
            ],
            "image/png": "[encoded data removed]"
          },
          "metadata": {
            "image/png": {
              "width": 420,
              "height": 420
            }
          }
        }
      ]
    },
    {
      "cell_type": "code",
      "source": [],
      "metadata": {
        "id": "SPGyK2-DAv5w"
      },
      "execution_count": null,
      "outputs": []
    }
  ],
  "metadata": {
    "colab": {
      "provenance": [],
      "include_colab_link": true
    },
    "kernelspec": {
      "display_name": "R",
      "name": "ir"
    },
    "language_info": {
      "name": "R"
    }
  },
  "nbformat": 4,
  "nbformat_minor": 0
}