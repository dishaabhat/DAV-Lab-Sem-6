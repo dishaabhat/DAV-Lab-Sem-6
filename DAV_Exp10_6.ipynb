{
  "nbformat": 4,
  "nbformat_minor": 0,
  "metadata": {
    "colab": {
      "provenance": [],
      "authorship_tag": "ABX9TyPWw7Eqghsd1D4Jq0BEkEIy",
      "include_colab_link": true
    },
    "kernelspec": {
      "name": "python3",
      "display_name": "Python 3"
    },
    "language_info": {
      "name": "python"
    }
  },
  "cells": [
    {
      "cell_type": "markdown",
      "metadata": {
        "id": "view-in-github",
        "colab_type": "text"
      },
      "source": [
        "<a href=\"https://colab.research.google.com/github/dishaabhat/DAV-Lab-Sem-6/blob/main/DAV_Exp10_6.ipynb\" target=\"_parent\"><img src=\"https://colab.research.google.com/assets/colab-badge.svg\" alt=\"Open In Colab\"/></a>"
      ]
    },
    {
      "cell_type": "markdown",
      "source": [
        "Event Handling with D3.js"
      ],
      "metadata": {
        "id": "h00nO978EhBe"
      }
    },
    {
      "cell_type": "code",
      "source": [
        "%%html\n",
        "<!DOCTYPE html>\n",
        "<html>\n",
        "<head>\n",
        "    <title>Bar Chart with Event Handling</title>\n",
        "    <script src=\"https://d3js.org/d3.v7.min.js\"></script>\n",
        "    <style>\n",
        "        .bar {\n",
        "            fill: steelblue;\n",
        "        }\n",
        "\n",
        "        .bar:hover {\n",
        "            fill: orange;\n",
        "        }\n",
        "    </style>\n",
        "</head>\n",
        "<body>\n",
        "    <svg width=\"400\" height=\"200\"></svg>\n",
        "\n",
        "    <script>\n",
        "        // Sample data\n",
        "        var data = [10, 20, 30, 40, 50];\n",
        "\n",
        "        // Select the SVG element\n",
        "        var svg = d3.select(\"svg\");\n",
        "\n",
        "        // Define the scales\n",
        "        var xScale = d3.scaleBand()\n",
        "            .domain(d3.range(data.length))\n",
        "            .range([0, 400])\n",
        "            .padding(0.1);\n",
        "\n",
        "        var yScale = d3.scaleLinear()\n",
        "            .domain([0, d3.max(data)])\n",
        "            .range([200, 0]);\n",
        "\n",
        "        // Create bars\n",
        "        svg.selectAll(\"rect\")\n",
        "            .data(data)\n",
        "            .enter()\n",
        "            .append(\"rect\")\n",
        "            .attr(\"class\", \"bar\")\n",
        "            .attr(\"x\", function(d, i) { return xScale(i); })\n",
        "            .attr(\"y\", function(d) { return yScale(d); })\n",
        "            .attr(\"width\", xScale.bandwidth())\n",
        "            .attr(\"height\", function(d) { return 200 - yScale(d); })\n",
        "            .on(\"mouseover\", function(d) {\n",
        "                d3.select(this).style(\"fill\", \"red\");\n",
        "            })\n",
        "            .on(\"mouseout\", function(d) {\n",
        "                d3.select(this).style(\"fill\", \"steelblue\");\n",
        "            })\n",
        "            .on(\"click\", function(d, i) {\n",
        "                console.log(\"Clicked bar \" + i + \", value: \" + d);\n",
        "            })\n",
        "            .on(\"touchstart\", function(d) {\n",
        "                d3.select(this).style(\"fill\", \"green\");\n",
        "            })\n",
        "            .on(\"keypress\", function(d) {\n",
        "                console.log(\"Keypress event!\");\n",
        "            })\n",
        "            .call(d3.drag()\n",
        "                .on(\"start\", function() {\n",
        "                    console.log(\"Drag started!\");\n",
        "                })\n",
        "                .on(\"drag\", function() {\n",
        "                    console.log(\"Dragging...\");\n",
        "                })\n",
        "            );\n",
        "    </script>\n",
        "</body>\n",
        "</html>\n"
      ],
      "metadata": {
        "colab": {
          "base_uri": "https://localhost:8080/",
          "height": 222
        },
        "id": "TdeKuCq_u46M",
        "outputId": "41d5f585-8bf1-48af-f1b0-87137fdb1c16"
      },
      "execution_count": null,
      "outputs": [
        {
          "output_type": "display_data",
          "data": {
            "text/plain": [
              "<IPython.core.display.HTML object>"
            ],
            "text/html": [
              "<!DOCTYPE html>\n",
              "<html>\n",
              "<head>\n",
              "    <title>Bar Chart with Event Handling</title>\n",
              "    <script src=\"https://d3js.org/d3.v7.min.js\"></script>\n",
              "    <style>\n",
              "        .bar {\n",
              "            fill: steelblue;\n",
              "        }\n",
              "\n",
              "        .bar:hover {\n",
              "            fill: orange;\n",
              "        }\n",
              "    </style>\n",
              "</head>\n",
              "<body>\n",
              "    <svg width=\"400\" height=\"200\"></svg>\n",
              "\n",
              "    <script>\n",
              "        // Sample data\n",
              "        var data = [10, 20, 30, 40, 50];\n",
              "\n",
              "        // Select the SVG element\n",
              "        var svg = d3.select(\"svg\");\n",
              "\n",
              "        // Define the scales\n",
              "        var xScale = d3.scaleBand()\n",
              "            .domain(d3.range(data.length))\n",
              "            .range([0, 400])\n",
              "            .padding(0.1);\n",
              "\n",
              "        var yScale = d3.scaleLinear()\n",
              "            .domain([0, d3.max(data)])\n",
              "            .range([200, 0]);\n",
              "\n",
              "        // Create bars\n",
              "        svg.selectAll(\"rect\")\n",
              "            .data(data)\n",
              "            .enter()\n",
              "            .append(\"rect\")\n",
              "            .attr(\"class\", \"bar\")\n",
              "            .attr(\"x\", function(d, i) { return xScale(i); })\n",
              "            .attr(\"y\", function(d) { return yScale(d); })\n",
              "            .attr(\"width\", xScale.bandwidth())\n",
              "            .attr(\"height\", function(d) { return 200 - yScale(d); })\n",
              "            .on(\"mouseover\", function(d) {\n",
              "                d3.select(this).style(\"fill\", \"red\");\n",
              "            })\n",
              "            .on(\"mouseout\", function(d) {\n",
              "                d3.select(this).style(\"fill\", \"steelblue\");\n",
              "            })\n",
              "            .on(\"click\", function(d, i) {\n",
              "                console.log(\"Clicked bar \" + i + \", value: \" + d);\n",
              "            })\n",
              "            .on(\"touchstart\", function(d) {\n",
              "                d3.select(this).style(\"fill\", \"green\");\n",
              "            })\n",
              "            .on(\"keypress\", function(d) {\n",
              "                console.log(\"Keypress event!\");\n",
              "            })\n",
              "            .call(d3.drag()\n",
              "                .on(\"start\", function() {\n",
              "                    console.log(\"Drag started!\");\n",
              "                })\n",
              "                .on(\"drag\", function() {\n",
              "                    console.log(\"Dragging...\");\n",
              "                })\n",
              "            );\n",
              "    </script>\n",
              "</body>\n",
              "</html>\n"
            ]
          },
          "metadata": {}
        }
      ]
    },
    {
      "cell_type": "markdown",
      "source": [
        "On Console:"
      ],
      "metadata": {
        "id": "xnCHpy0cDsMg"
      }
    },
    {
      "cell_type": "markdown",
      "source": [
        "![My Image](https://drive.google.com/uc?export=view&id=1XP9jYbWeWUqPd9XCMaNwzeNiJHIllryi)\n",
        "\n",
        "\n"
      ],
      "metadata": {
        "id": "MhhOCSGtBQQE"
      }
    },
    {
      "cell_type": "code",
      "source": [],
      "metadata": {
        "id": "nQBdzVjBAhzr"
      },
      "execution_count": null,
      "outputs": []
    }
  ]
}