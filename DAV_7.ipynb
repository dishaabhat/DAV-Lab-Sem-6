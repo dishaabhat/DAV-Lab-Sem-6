{
  "nbformat": 4,
  "nbformat_minor": 0,
  "metadata": {
    "colab": {
      "provenance": [],
      "authorship_tag": "ABX9TyPB6aTpKi5lo7RUl6uXG8ED",
      "include_colab_link": true
    },
    "kernelspec": {
      "name": "python3",
      "display_name": "Python 3"
    },
    "language_info": {
      "name": "python"
    }
  },
  "cells": [
    {
      "cell_type": "markdown",
      "metadata": {
        "id": "view-in-github",
        "colab_type": "text"
      },
      "source": [
        "<a href=\"https://colab.research.google.com/github/dishaabhat/DAV-Lab-Sem-6/blob/main/DAV_7.ipynb\" target=\"_parent\"><img src=\"https://colab.research.google.com/assets/colab-badge.svg\" alt=\"Open In Colab\"/></a>"
      ]
    },
    {
      "cell_type": "markdown",
      "source": [
        "**Perform the steps involved in Text Analytics in Python & R**\n",
        "\n",
        "\n",
        "\n"
      ],
      "metadata": {
        "id": "gobWghBB5m2x"
      }
    },
    {
      "cell_type": "markdown",
      "source": [
        "# Python"
      ],
      "metadata": {
        "id": "VZfQ7TNn5tyK"
      }
    },
    {
      "cell_type": "code",
      "source": [
        "import nltk\n",
        "nltk.download('punkt')"
      ],
      "metadata": {
        "id": "ZrfYlk_Fwg0b",
        "colab": {
          "base_uri": "https://localhost:8080/"
        },
        "outputId": "c17001b8-8912-4d2b-aa9c-74adcf3ee978"
      },
      "execution_count": 1,
      "outputs": [
        {
          "output_type": "stream",
          "name": "stderr",
          "text": [
            "[nltk_data] Downloading package punkt to /root/nltk_data...\n",
            "[nltk_data]   Unzipping tokenizers/punkt.zip.\n"
          ]
        },
        {
          "output_type": "execute_result",
          "data": {
            "text/plain": [
              "True"
            ]
          },
          "metadata": {},
          "execution_count": 1
        }
      ]
    },
    {
      "cell_type": "code",
      "source": [
        "text =  \"He raced to the grocery store. He went inside but realized he forgot his wallet. He raced back home to grab it. Once he found it, he raced to the car again and drove back to the grocery store.\""
      ],
      "metadata": {
        "id": "W8HrFrBWwjrw"
      },
      "execution_count": 3,
      "outputs": []
    },
    {
      "cell_type": "code",
      "source": [
        "sentences = nltk.sent_tokenize(text)\n",
        "words = nltk.word_tokenize(text)\n",
        "\n",
        "print(\"Sentences:\", sentences)\n",
        "print(\"Words:\", words)"
      ],
      "metadata": {
        "id": "luPAo8uftNGw",
        "colab": {
          "base_uri": "https://localhost:8080/"
        },
        "outputId": "5f5ff434-90ad-4571-84a0-210c4bb75423"
      },
      "execution_count": 4,
      "outputs": [
        {
          "output_type": "stream",
          "name": "stdout",
          "text": [
            "Sentences: ['He raced to the grocery store.', 'He went inside but realized he forgot his wallet.', 'He raced back home to grab it.', 'Once he found it, he raced to the car again and drove back to the grocery store.']\n",
            "Words: ['He', 'raced', 'to', 'the', 'grocery', 'store', '.', 'He', 'went', 'inside', 'but', 'realized', 'he', 'forgot', 'his', 'wallet', '.', 'He', 'raced', 'back', 'home', 'to', 'grab', 'it', '.', 'Once', 'he', 'found', 'it', ',', 'he', 'raced', 'to', 'the', 'car', 'again', 'and', 'drove', 'back', 'to', 'the', 'grocery', 'store', '.']\n"
          ]
        }
      ]
    },
    {
      "cell_type": "code",
      "source": [
        "import nltk.data\n",
        "\n",
        "spanish_tokenizer=nltk.data.load('tokenizers/punkt/PY3/spanish.pickle')\n",
        "\n",
        "text = 'Hola amigo. Estoy bien.'\n",
        "spanish_tokenizer.tokenize(text)"
      ],
      "metadata": {
        "id": "Atxh5LhZvrpi",
        "colab": {
          "base_uri": "https://localhost:8080/"
        },
        "outputId": "e1326ccf-4696-4429-f351-37edb456145b"
      },
      "execution_count": 5,
      "outputs": [
        {
          "output_type": "execute_result",
          "data": {
            "text/plain": [
              "['Hola amigo.', 'Estoy bien.']"
            ]
          },
          "metadata": {},
          "execution_count": 5
        }
      ]
    },
    {
      "cell_type": "code",
      "source": [
        "from nltk.probability import FreqDist"
      ],
      "metadata": {
        "id": "YYeOwG9avS_c"
      },
      "execution_count": 6,
      "outputs": []
    },
    {
      "cell_type": "code",
      "source": [
        "from nltk.tokenize import word_tokenize\n",
        "\n",
        "fdist=FreqDist(words)\n",
        "words=word_tokenize(text)\n",
        "\n",
        "for word,frequency in fdist.items():\n",
        "  print(f\"{word}\\t{frequency}\")"
      ],
      "metadata": {
        "id": "nUJalSiKvV6r",
        "colab": {
          "base_uri": "https://localhost:8080/"
        },
        "outputId": "d9abc28f-740c-4e51-96e8-4f35f433b81f"
      },
      "execution_count": 9,
      "outputs": [
        {
          "output_type": "stream",
          "name": "stdout",
          "text": [
            "He\t3\n",
            "raced\t3\n",
            "to\t4\n",
            "the\t3\n",
            "grocery\t2\n",
            "store\t2\n",
            ".\t4\n",
            "went\t1\n",
            "inside\t1\n",
            "but\t1\n",
            "realized\t1\n",
            "he\t3\n",
            "forgot\t1\n",
            "his\t1\n",
            "wallet\t1\n",
            "back\t2\n",
            "home\t1\n",
            "grab\t1\n",
            "it\t2\n",
            "Once\t1\n",
            "found\t1\n",
            ",\t1\n",
            "car\t1\n",
            "again\t1\n",
            "and\t1\n",
            "drove\t1\n"
          ]
        }
      ]
    },
    {
      "cell_type": "code",
      "source": [
        "print(fdist.most_common(2))"
      ],
      "metadata": {
        "id": "WWnhpxfnvaZ7",
        "colab": {
          "base_uri": "https://localhost:8080/"
        },
        "outputId": "e038359e-f747-4907-a163-2200de3d1b1f"
      },
      "execution_count": 12,
      "outputs": [
        {
          "output_type": "stream",
          "name": "stdout",
          "text": [
            "[('to', 4), ('.', 4)]\n"
          ]
        }
      ]
    },
    {
      "cell_type": "code",
      "source": [
        "import matplotlib.pyplot as plt\n",
        "\n",
        "fdist.plot(24, cumulative=False)\n",
        "plt.show()"
      ],
      "metadata": {
        "id": "fv8Z499ivh5u",
        "colab": {
          "base_uri": "https://localhost:8080/",
          "height": 491
        },
        "outputId": "02958aca-e15c-4d17-e179-09aa9897e8a3"
      },
      "execution_count": 14,
      "outputs": [
        {
          "output_type": "display_data",
          "data": {
            "text/plain": [
              "<Figure size 640x480 with 1 Axes>"
            ],
            "image/png": "[encoded data removed]"
          },
          "metadata": {}
        }
      ]
    },
    {
      "cell_type": "code",
      "source": [
        "import nltk\n",
        "from nltk.corpus import stopwords\n",
        "from nltk.tokenize import word_tokenize\n",
        "\n",
        "nltk.download('stopwords')\n",
        "nltk.download('punkt')\n",
        "\n",
        "text = \"This is a sample sentence. Tokenization is important for NLP.\"\n",
        "\n",
        "# Tokenize the text\n",
        "words = word_tokenize(text)\n",
        "\n",
        "# Remove stopwords\n",
        "stop_words = set(stopwords.words('english'))\n",
        "words = [word for word in words if word.lower() not in stop_words]\n",
        "\n",
        "# Remove punctuations\n",
        "punctuations = '''!()-[]{};:'\"\\,<>./?@#$%^&*_~'''\n",
        "words = [word for word in words if word not in punctuations]\n",
        "\n",
        "print(words)"
      ],
      "metadata": {
        "colab": {
          "base_uri": "https://localhost:8080/"
        },
        "id": "HAY7OZe0yRNR",
        "outputId": "c80d3567-a5be-4591-c12b-da1173a17bed"
      },
      "execution_count": 17,
      "outputs": [
        {
          "output_type": "stream",
          "name": "stdout",
          "text": [
            "['sample', 'sentence', 'Tokenization', 'important', 'NLP']\n"
          ]
        },
        {
          "output_type": "stream",
          "name": "stderr",
          "text": [
            "[nltk_data] Downloading package stopwords to /root/nltk_data...\n",
            "[nltk_data]   Unzipping corpora/stopwords.zip.\n",
            "[nltk_data] Downloading package punkt to /root/nltk_data...\n",
            "[nltk_data]   Package punkt is already up-to-date!\n"
          ]
        }
      ]
    },
    {
      "cell_type": "code",
      "source": [
        "import requests\n",
        "from bs4 import BeautifulSoup\n",
        "\n",
        "url = 'https://axiom.ai/recipes/scrape-amazon'\n",
        "response = requests.get(url)\n",
        "soup = BeautifulSoup(response.text, 'html.parser')\n",
        "\n",
        "text_data = soup.get_text()\n",
        "print(\"Text data from website:\", text_data)"
      ],
      "metadata": {
        "id": "KtdXB-4vwRPX",
        "colab": {
          "base_uri": "https://localhost:8080/"
        },
        "outputId": "628530d5-8260-4d62-8773-c2f9e954b40c"
      },
      "execution_count": 19,
      "outputs": [
        {
          "output_type": "stream",
          "name": "stdout",
          "text": [
            "Text data from website: \n",
            "\n",
            "\n",
            "\n",
            "\n",
            "How to Scrape Amazon for Product Data (Fast and Easy) | axiom.ai\n",
            "\n",
            "\n",
            "\n",
            "\n",
            "\n",
            "\n",
            "\n",
            "\n",
            "\n",
            "\n",
            "\n",
            "\n",
            "\n",
            "\n",
            "axiom.ai \n",
            "          Pricing\n",
            "         \n",
            "              Academy\n",
            "             Blog Documentation Video guides \n",
            "          Templates\n",
            "         \n",
            "          Support\n",
            "         \n",
            "              Product\n",
            "             AI Steps Roadmap Release notes \n",
            "              About\n",
            "             FAQ Affiliate program Contact us \n",
            "        Install Chrome Extension\n",
            "          Pricing Blog Documentation Video guides Templates Support Affiliate program AI Steps Roadmap Install Chrome Extension   \n",
            "              How to Scrape Amazon for Product Data (Fast and Easy)\n",
            "             \n",
            "                Easy\n",
            "               • 6 minutes  \n",
            "    Install Chrome Extension\n",
            "    This Amazon scraper template pulls data from Amazon to a Google Sheet. It cycles through Amazon product links in the sheet, extracts data, and updates the sheet. After processing, it deletes each link. Configurartion takes minutes. # Get started: create your Google Sheet Create a new Google Sheet. You can do this in your Chrome browser by entering the shortcut 'sheet.new', presuming you already have an account. Name your sheet something like 'Amazon Scraper’ and set up a tab called 'Amazon product links'. Add another tab called 'Data'. # Install the Amazon Scraper To install this Amazon scraper click 'Install template'. If you’re a new user, you’ll have to click 'Install Chrome extension' and create a free Axiom.ai account before you can edit the template. Once installed, click 'Start'. Axiom.ai will guide you through the steps you need to configure in the app. # Configure your Amazon scraper in minutes Step 1.0 - Read data from Google Sheet\n",
            "Spreadsheet - Search for the Google Sheet you created. Once found, click to select. Sheet name - Choose the sheet tab called 'Amazon product links' Step 2.0 - Loop through data\n",
            "Step 2.1 - Go to page Enter URL - Click 'Insert Data' select 'google-sheet-data' and select the column with the links in tep 2.2 - Current URL No change required Step 2.3 - Get data from bot's current page Select - Point and click to select the data you wish to scrape Max Results - Set to match the amount of columns of data you selected to scrape Step 2.4 - Write Data to a Google Sheet Spreadsheet - Search for the Google Sheet you created. Once found, click to select Sheet name - Choose the tab you created DATA - Select the '[scrape-data]' Clear data before writing | Add to existing data - Set this option to 'Add to existing' data' Step 2.5 - Delete rows from a Google Sheet Spreadsheet - Search for the Google Sheet you created. Once found, click to select Sheet name - Choose the tab you created for links First row - Set to 1 Last row - Set to 1 # Run your Amazon scraper We suggest running a test first, stopping the bot after a few loops, and reviewing the data. # Customize your template Like all Axiom templates, you can use our no-code bot builder to customize any bot according to your requirements. # Tips We recommend you watch the video to troubleshoot. Step 1.0 - Read data from Google Sheet\n",
            "Want to set an amount of loops? Set a 'Last Cell' something like AE100 will scrape 100 rows Step 2.3 - Get data from bot's current page\n",
            "Selectors fail to find content? Try re-selecting or using custom selectors Slow running scraper ? Toggle 'Configure scraper' then set 'No. of retry...' to 1 Speed the scraper up ? Set the max-results to match the amount of columns of data you selected to scrape Step 2.4 - Write Data to a Google Sheet\n",
            "No data written? Check 'Data' is set to '[scrape-data]' Keeps over writing data? Make sure 'Add to existing' is selected We offer excellent customer support. If you need help, get in touch. Looking to scrape ASINs or automate Amazon posts follow these guides. Read this link If you want to scrape Amazon books. # More Templates Axiom template for Looping through pages Axiom template for batch scraping  Axiom template for scraping with keypress Contents   \n",
            "    Install Chrome Extension\n",
            "   Automate with Axiom.ai in minutes \n",
            "          No credit card required • Two hours of\n",
            "          free runtime\n",
            "         \n",
            "          Get started for free\n",
            "          axiom.ai  \n",
            "            Browser automation\n",
            "           Quickly, without code \n",
            "          Install Chrome Extension\n",
            "          Menu  Home   Pricing   Affiliate program   Documentation   Blog   Video guides   FAQ  Templates  Release notes   AI  Support   Contact   Desktop App  Web automation use cases  See all Web scraping use cases  See all Blog  Find us online      Data, privacy and responsibility \n",
            "          All your bots live on your computer and process data in your web\n",
            "          browser. We store the steps of your bot and data on how well it's\n",
            "          running, but we don't store any of the results of your automations\n",
            "          on our systems. Please use Axiom responsibly! Please read our\n",
            "          terms of use\n",
            "          and\n",
            "          privacy policy\n",
            "          for more information.\n",
            "         \n",
            "          Axiom is backed by\n",
            "          Y-Combinator\n",
            "\n",
            "\n",
            "\n",
            "\n"
          ]
        }
      ]
    },
    {
      "cell_type": "markdown",
      "source": [
        "# R"
      ],
      "metadata": {
        "id": "HeSmhCWd5x1r"
      }
    },
    {
      "cell_type": "code",
      "source": [
        "install.packages(\"tm\")\n",
        "install.packages(\"rvest\")\n",
        "install.packages(\"tokenizers\")"
      ],
      "metadata": {
        "id": "dJSzUpQKydx0",
        "colab": {
          "base_uri": "https://localhost:8080/"
        },
        "outputId": "817e163a-0928-4bd4-b9c9-de6076f820db"
      },
      "execution_count": null,
      "outputs": [
        {
          "output_type": "stream",
          "name": "stderr",
          "text": [
            "Installing package into ‘/usr/local/lib/R/site-library’\n",
            "(as ‘lib’ is unspecified)\n",
            "\n",
            "also installing the dependencies ‘NLP’, ‘slam’, ‘BH’\n",
            "\n",
            "\n",
            "Installing package into ‘/usr/local/lib/R/site-library’\n",
            "(as ‘lib’ is unspecified)\n",
            "\n",
            "Installing package into ‘/usr/local/lib/R/site-library’\n",
            "(as ‘lib’ is unspecified)\n",
            "\n"
          ]
        }
      ]
    },
    {
      "cell_type": "code",
      "source": [
        "library(tm)\n",
        "library(rvest)\n",
        "library(NLP)\n",
        "library(tokenizers)\n",
        "library(SnowballC)"
      ],
      "metadata": {
        "id": "g0qIS-MP5z4S",
        "colab": {
          "base_uri": "https://localhost:8080/"
        },
        "outputId": "58516573-14e3-4219-e88e-9883135f8e5d"
      },
      "execution_count": null,
      "outputs": [
        {
          "output_type": "stream",
          "name": "stderr",
          "text": [
            "Loading required package: NLP\n",
            "\n"
          ]
        }
      ]
    },
    {
      "cell_type": "code",
      "source": [
        "install.packages(\"tokenizers\")"
      ],
      "metadata": {
        "id": "U671RKD18dOX",
        "colab": {
          "base_uri": "https://localhost:8080/"
        },
        "outputId": "867aac9a-8a5f-499f-c208-4bd0f49bda30"
      },
      "execution_count": null,
      "outputs": [
        {
          "output_type": "stream",
          "name": "stderr",
          "text": [
            "Installing package into ‘/usr/local/lib/R/site-library’\n",
            "(as ‘lib’ is unspecified)\n",
            "\n",
            "also installing the dependencies ‘Rcpp’, ‘SnowballC’\n",
            "\n",
            "\n"
          ]
        }
      ]
    },
    {
      "cell_type": "code",
      "source": [
        "library(tokenizers)"
      ],
      "metadata": {
        "id": "8hCS2pdWqdhX"
      },
      "execution_count": null,
      "outputs": []
    },
    {
      "cell_type": "code",
      "source": [
        "text <- \"He raced to the grocery store. He went inside but realized he forgot his wallet. He raced back home to grab it. Once he found it, he raced to the car again and drove back to the grocery store.\""
      ],
      "metadata": {
        "id": "IWnDjmB4spla"
      },
      "execution_count": null,
      "outputs": []
    },
    {
      "cell_type": "code",
      "source": [
        "sent_tokens <- unlist(tokenize_sentences(text))\n",
        "word_tokens <- unlist(tokenize_words(text))\n",
        "# Frequency Distribution\n",
        "fdist <- table(unlist(word_tokens))\n",
        "print(head(sort(fdist, decreasing = TRUE), 2))"
      ],
      "metadata": {
        "colab": {
          "base_uri": "https://localhost:8080/"
        },
        "id": "Q79RzZ_SsWYT",
        "outputId": "f840d063-1ad8-4341-d1eb-138ffc515eaa"
      },
      "execution_count": null,
      "outputs": [
        {
          "output_type": "stream",
          "name": "stdout",
          "text": [
            "\n",
            "he to \n",
            " 6  4 \n"
          ]
        }
      ]
    },
    {
      "cell_type": "code",
      "source": [
        "# Remove stopwords and punctuations\n",
        "stop_words <- stopwords(\"en\")\n",
        "filtered_tokens <- word_tokens[!(word_tokens %in% stop_words) & grepl(\"[a-zA-Z]\", word_tokens)]\n",
        "cat(\"Filtered Tokens (without stopwords and punctuations):\", filtered_tokens, \"\\n\")"
      ],
      "metadata": {
        "id": "ZKJSGdBeydq-",
        "colab": {
          "base_uri": "https://localhost:8080/"
        },
        "outputId": "bd5d29bc-fb40-4196-9d43-fa29dd7cee5f"
      },
      "execution_count": null,
      "outputs": [
        {
          "output_type": "stream",
          "name": "stdout",
          "text": [
            "Filtered Tokens (without stopwords and punctuations): raced grocery store went inside realized forgot wallet raced back home grab found raced car drove back grocery store \n"
          ]
        }
      ]
    },
    {
      "cell_type": "code",
      "source": [
        "word_tokenize <- unlist(tokenize_words(text))\n",
        "print(word_tokenize)"
      ],
      "metadata": {
        "colab": {
          "base_uri": "https://localhost:8080/"
        },
        "id": "1YcV67kGqnon",
        "outputId": "010c5333-687a-40a6-e974-3123d050a424"
      },
      "execution_count": null,
      "outputs": [
        {
          "output_type": "stream",
          "name": "stdout",
          "text": [
            " [1] \"he\"       \"raced\"    \"to\"       \"the\"      \"grocery\"  \"store\"   \n",
            " [7] \"he\"       \"went\"     \"inside\"   \"but\"      \"realized\" \"he\"      \n",
            "[13] \"forgot\"   \"his\"      \"wallet\"   \"he\"       \"raced\"    \"back\"    \n",
            "[19] \"home\"     \"to\"       \"grab\"     \"it\"       \"once\"     \"he\"      \n",
            "[25] \"found\"    \"it\"       \"he\"       \"raced\"    \"to\"       \"the\"     \n",
            "[31] \"car\"      \"again\"    \"and\"      \"drove\"    \"back\"     \"to\"      \n",
            "[37] \"the\"      \"grocery\"  \"store\"   \n"
          ]
        }
      ]
    },
    {
      "cell_type": "code",
      "source": [
        "# Stemming\n",
        "stemmed_tokens <- wordStem(filtered_tokens, language = \"en\")\n",
        "\n",
        "# Lemmatization\n",
        "lemmatized_text <- tolower(text)\n",
        "lemmatized_text <- wordStem(lemmatized_text, language = \"en\")\n",
        "cat(\"Stemmed Tokens:\", stemmed_tokens, \"\\n\")\n",
        "cat(\"Lemmatized Text:\", lemmatized_text, \"\\n\")"
      ],
      "metadata": {
        "id": "itPGqGTwydnA",
        "colab": {
          "base_uri": "https://localhost:8080/",
          "height": 106
        },
        "outputId": "cd280e3e-91fd-4a51-d2d5-8a19bef21a2c"
      },
      "execution_count": null,
      "outputs": [
        {
          "output_type": "error",
          "ename": "ERROR",
          "evalue": "Error in eval(expr, envir, enclos): object 'filtered_tokens' not found\n",
          "traceback": [
            "Error in eval(expr, envir, enclos): object 'filtered_tokens' not found\nTraceback:\n",
            "1. wordStem(filtered_tokens, language = \"en\")"
          ]
        }
      ]
    },
    {
      "cell_type": "code",
      "source": [
        "library(\"dplyr\")"
      ],
      "metadata": {
        "colab": {
          "base_uri": "https://localhost:8080/"
        },
        "id": "lQhVi1-Zq8GV",
        "outputId": "c265a75d-a778-48e7-ce3b-568dff34eb2c"
      },
      "execution_count": null,
      "outputs": [
        {
          "output_type": "stream",
          "name": "stderr",
          "text": [
            "\n",
            "Attaching package: ‘dplyr’\n",
            "\n",
            "\n",
            "The following objects are masked from ‘package:stats’:\n",
            "\n",
            "    filter, lag\n",
            "\n",
            "\n",
            "The following objects are masked from ‘package:base’:\n",
            "\n",
            "    intersect, setdiff, setequal, union\n",
            "\n",
            "\n"
          ]
        }
      ]
    },
    {
      "cell_type": "code",
      "source": [
        "df <- data.frame(col1 = c(\"DAV\",\"ML\",\"CSS\",\"SEPM\",\"R\", \"IVP\",\"DAV\",\"CSS\",\"ML\",\"DAV\", \"CSS\",\"SEPM\",\"DAV\",\"DAV\",\"CSS\"))\n"
      ],
      "metadata": {
        "id": "tHAy8id2q_w-"
      },
      "execution_count": null,
      "outputs": []
    },
    {
      "cell_type": "code",
      "source": [
        "print(\"Student Data\")\n",
        "print(df)\n",
        "df %>%\n",
        "  count(col1)"
      ],
      "metadata": {
        "colab": {
          "base_uri": "https://localhost:8080/",
          "height": 598
        },
        "id": "PLB93KK1rCj7",
        "outputId": "644dfa74-c15a-4d86-e1a7-1432a481b13a"
      },
      "execution_count": null,
      "outputs": [
        {
          "output_type": "stream",
          "name": "stdout",
          "text": [
            "[1] \"Student Data\"\n",
            "   col1\n",
            "1   DAV\n",
            "2    ML\n",
            "3   CSS\n",
            "4  SEPM\n",
            "5     R\n",
            "6   IVP\n",
            "7   DAV\n",
            "8   CSS\n",
            "9    ML\n",
            "10  DAV\n",
            "11  CSS\n",
            "12 SEPM\n",
            "13  DAV\n",
            "14  DAV\n",
            "15  CSS\n"
          ]
        },
        {
          "output_type": "display_data",
          "data": {
            "text/html": [
              "<table class=\"dataframe\">\n",
              "<caption>A data.frame: 6 × 2</caption>\n",
              "<thead>\n",
              "\t<tr><th scope=col>col1</th><th scope=col>n</th></tr>\n",
              "\t<tr><th scope=col>&lt;chr&gt;</th><th scope=col>&lt;int&gt;</th></tr>\n",
              "</thead>\n",
              "<tbody>\n",
              "\t<tr><td>CSS </td><td>4</td></tr>\n",
              "\t<tr><td>DAV </td><td>5</td></tr>\n",
              "\t<tr><td>IVP </td><td>1</td></tr>\n",
              "\t<tr><td>ML  </td><td>2</td></tr>\n",
              "\t<tr><td>R   </td><td>1</td></tr>\n",
              "\t<tr><td>SEPM</td><td>2</td></tr>\n",
              "</tbody>\n",
              "</table>\n"
            ],
            "text/markdown": "\nA data.frame: 6 × 2\n\n| col1 &lt;chr&gt; | n &lt;int&gt; |\n|---|---|\n| CSS  | 4 |\n| DAV  | 5 |\n| IVP  | 1 |\n| ML   | 2 |\n| R    | 1 |\n| SEPM | 2 |\n\n",
            "text/latex": "A data.frame: 6 × 2\n\\begin{tabular}{ll}\n col1 & n\\\\\n <chr> & <int>\\\\\n\\hline\n\t CSS  & 4\\\\\n\t DAV  & 5\\\\\n\t IVP  & 1\\\\\n\t ML   & 2\\\\\n\t R    & 1\\\\\n\t SEPM & 2\\\\\n\\end{tabular}\n",
            "text/plain": [
              "  col1 n\n",
              "1 CSS  4\n",
              "2 DAV  5\n",
              "3 IVP  1\n",
              "4 ML   2\n",
              "5 R    1\n",
              "6 SEPM 2"
            ]
          },
          "metadata": {}
        }
      ]
    },
    {
      "cell_type": "code",
      "source": [
        "# Web Scraping\n",
        "url <- 'https://axiom.ai/recipes/scrape-amazon'\n",
        "web_page <- read_html(url)\n",
        "web_text <- html_text(web_page)\n",
        "cat(\"Scraped Data from the Website:\\n\", web_text)"
      ],
      "metadata": {
        "id": "MKRkc4BEydjt",
        "colab": {
          "base_uri": "https://localhost:8080/"
        },
        "outputId": "c3cbea30-e134-4fd6-b123-d06f54c96784"
      },
      "execution_count": null,
      "outputs": [
        {
          "output_type": "stream",
          "name": "stdout",
          "text": [
            "Scraped Data from the Website:\n",
            " How to Scrape Amazon for Product Data (Fast and Easy) | axiom.aiwindow.dataLayer = window.dataLayer || [];\n",
            "function gtag(){dataLayer.push(arguments);}\n",
            "gtag('js', new Date());\n",
            "gtag('config', 'G-XVEF4VQFF3');\n",
            "    axiom.ai \n",
            "          Pricing\n",
            "         \n",
            "              Academy\n",
            "             Blog Documentation Video guides \n",
            "          Templates\n",
            "         \n",
            "          Support\n",
            "         \n",
            "              Product\n",
            "             AI Steps Roadmap Release notes \n",
            "              About\n",
            "             FAQ Affiliate program Contact us \n",
            "        Install Chrome Extension\n",
            "        Pricing Blog Documentation Video guides Templates Support Affiliate program AI Steps Roadmap Install Chrome Extension\n",
            "              How to Scrape Amazon for Product Data (Fast and Easy)\n",
            "             \n",
            "                Easy\n",
            "               • 6 minutes  \n",
            "    Install Chrome Extension\n",
            "    This Amazon scraper template pulls data from Amazon to a Google Sheet. It cycles through Amazon product links in the sheet, extracts data, and updates the sheet. After processing, it deletes each link. Configurartion takes minutes. # Get started: create your Google Sheet Create a new Google Sheet. You can do this in your Chrome browser by entering the shortcut 'sheet.new', presuming you already have an account. Name your sheet something like 'Amazon Scraper’ and set up a tab called 'Amazon product links'. Add another tab called 'Data'. # Install the Amazon Scraper To install this Amazon scraper click 'Install template'. If you’re a new user, you’ll have to click 'Install Chrome extension' and create a free Axiom.ai account before you can edit the template. Once installed, click 'Start'. Axiom.ai will guide you through the steps you need to configure in the app. # Configure your Amazon scraper in minutes Step 1.0 - Read data from Google Sheet\n",
            "Spreadsheet - Search for the Google Sheet you created. Once found, click to select. Sheet name - Choose the sheet tab called 'Amazon product links' Step 2.0 - Loop through data\n",
            "Step 2.1 - Go to page Enter URL - Click 'Insert Data' select 'google-sheet-data' and select the column with the links in tep 2.2 - Current URL No change required Step 2.3 - Get data from bot's current page Select - Point and click to select the data you wish to scrape Max Results - Set to match the amount of columns of data you selected to scrape Step 2.4 - Write Data to a Google Sheet Spreadsheet - Search for the Google Sheet you created. Once found, click to select Sheet name - Choose the tab you created DATA - Select the '[scrape-data]' Clear data before writing | Add to existing data - Set this option to 'Add to existing' data' Step 2.5 - Delete rows from a Google Sheet Spreadsheet - Search for the Google Sheet you created. Once found, click to select Sheet name - Choose the tab you created for links First row - Set to 1 Last row - Set to 1# Run your Amazon scraper We suggest running a test first, stopping the bot after a few loops, and reviewing the data. # Customize your template Like all Axiom templates, you can use our no-code bot builder to customize any bot according to your requirements. # Tips We recommend you watch the video to troubleshoot. Step 1.0 - Read data from Google Sheet\n",
            "Want to set an amount of loops? Set a 'Last Cell' something like AE100 will scrape 100 rows Step 2.3 - Get data from bot's current page\n",
            "Selectors fail to find content? Try re-selecting or using custom selectors Slow running scraper ? Toggle 'Configure scraper' then set 'No. of retry...' to 1 Speed the scraper up ? Set the max-results to match the amount of columns of data you selected to scrape Step 2.4 - Write Data to a Google Sheet\n",
            "No data written? Check 'Data' is set to '[scrape-data]' Keeps over writing data? Make sure 'Add to existing' is selectedWe offer excellent customer support. If you need help, get in touch. Looking to scrape ASINs or automate Amazon posts follow these guides. Read this link If you want to scrape Amazon books. # More Templates Axiom template for Looping through pages Axiom template for batch scraping  Axiom template for scraping with keypress Contents   \n",
            "    Install Chrome Extension\n",
            "  Automate with Axiom.ai in minutes \n",
            "          No credit card required • Two hours of\n",
            "          free runtime\n",
            "         \n",
            "          Get started for free\n",
            "          axiom.ai  \n",
            "            Browser automation\n",
            "           Quickly, without code \n",
            "          Install Chrome Extension\n",
            "         Menu  Home   Pricing   Affiliate program   Documentation   Blog   Video guides   FAQ  Templates  Release notes   AI  Support   Contact   Desktop App  Web automation use cases   See all Web scraping use cases   See all Blog  Find us online      Data, privacy and responsibility \n",
            "          All your bots live on your computer and process data in your web\n",
            "          browser. We store the steps of your bot and data on how well it's\n",
            "          running, but we don't store any of the results of your automations\n",
            "          on our systems. Please use Axiom responsibly! Please read our\n",
            "          terms of use\n",
            "          and\n",
            "          privacy policy\n",
            "          for more information.\n",
            "         \n",
            "          Axiom is backed by\n",
            "          Y-Combinator\n",
            "    "
          ]
        }
      ]
    },
    {
      "cell_type": "code",
      "source": [],
      "metadata": {
        "id": "z5mgYfZxrFhl"
      },
      "execution_count": null,
      "outputs": []
    }
  ]
}